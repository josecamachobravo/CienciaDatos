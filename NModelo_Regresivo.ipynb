{
  "nbformat": 4,
  "nbformat_minor": 0,
  "metadata": {
    "colab": {
      "provenance": [],
      "authorship_tag": "ABX9TyOMTMaaNPD512K0PjarkynS",
      "include_colab_link": true
    },
    "kernelspec": {
      "name": "python3",
      "display_name": "Python 3"
    },
    "language_info": {
      "name": "python"
    }
  },
  "cells": [
    {
      "cell_type": "markdown",
      "metadata": {
        "id": "view-in-github",
        "colab_type": "text"
      },
      "source": [
        "<a href=\"https://colab.research.google.com/github/josecamachobravo/CienciaDatos/blob/main/NModelo_Regresivo.ipynb\" target=\"_parent\"><img src=\"https://colab.research.google.com/assets/colab-badge.svg\" alt=\"Open In Colab\"/></a>"
      ]
    },
    {
      "cell_type": "code",
      "execution_count": null,
      "metadata": {
        "id": "bpnDmew-C8NZ"
      },
      "outputs": [],
      "source": [
        "import pandas as pd\n",
        "import seaborn as sns\n",
        "import matplotlib.pyplot as plt\n",
        "\n",
        "ruta = r'C:/Users/asura/OneDrive/Documentos/Python/Camacho/datos/CNPV2018_5PER_A2_05.csv'\n",
        "df = pd.read_csv(ruta)\n",
        "\n",
        "# Grafico para obtener hombres y mujeres mayores de 50 años que saben leer y escribir\n",
        "filtros = ((df['P_SEXO'] == 1) | (df['P_SEXO'] == 2)) & (df['P_EDADR'].isin([11, 12, 13, 14, 15, 16, 17, 18, 19, 20, 21]))\n",
        "\n",
        "df_filtrado = df[filtros]\n",
        "\n",
        "df_sabe_leer_escribir = df_filtrado[(df_filtrado['P_ALFABETA'] == 1) & (df_filtrado['PA_ASISTENCIA'] == 1)]\n",
        "\n",
        "conteo = df_sabe_leer_escribir.groupby(['P_SEXO', 'P_EDADR']).size().reset_index(name='count')\n",
        "\n",
        "sns.lmplot(x='P_EDADR', y='count', hue='P_SEXO', data=conteo, ci=None)\n",
        "\n",
        "plt.title('Cantidad de personas mayores de 50 años que saben leer y escribir por sexo')\n",
        "plt.xlabel('Edad')\n",
        "plt.ylabel('Cantidad')\n",
        "\n",
        "plt.show()\n",
        "\n",
        "\n",
        "\n",
        "# Grafico para obtener niños y niñas menores de 19 años\n",
        "filtro_sexo = df['P_SEXO'].isin([1, 2])\n",
        "filtro_edad = df['P_EDADR'].isin([1, 2, 3, 4])\n",
        "df_filtrado = df[filtro_sexo & filtro_edad]\n",
        "\n",
        "conteo = df_filtrado.groupby(['P_SEXO', 'P_EDADR']).size().reset_index(name='count')\n",
        "\n",
        "grupos_edad = [1, 2, 3, 4]\n",
        "etiquetas_edad = ['0-4 años', '5-9 años', '10-14 años', '15-19 años']\n",
        "\n",
        "sns.set(style=\"whitegrid\")\n",
        "plt.figure(figsize=(10, 6))\n",
        "sns.regplot(x='P_EDADR', y='count', data=conteo, x_estimator=sum, ci=None)\n",
        "plt.title(\"Regresión lineal: Niños y niñas menores de 19 años\")\n",
        "plt.xlabel(\"Grupo de Edad\")\n",
        "plt.ylabel(\"Cantidad\")\n",
        "plt.xticks(grupos_edad, etiquetas_edad)\n",
        "plt.show()\n",
        "\n",
        "\n",
        "\n",
        "# Grafico para obtener hombres y mujeres con diferentes estados civiles\n",
        "filtro = (df['P_SEXO'].isin([1, 2])) & (df['P_EST_CIVIL'].isin([1, 2]))\n",
        "datos_filtrados = df[filtro]\n",
        "\n",
        "conteo_sexo_estado_civil = datos_filtrados.groupby(['P_SEXO', 'P_EST_CIVIL']).size().unstack()\n",
        "\n",
        "conteo_sexo_estado_civil.plot(kind='bar')\n",
        "plt.xlabel('Sexo')\n",
        "plt.ylabel('Cantidad')\n",
        "plt.title('Cantidad de hombres y mujeres por estado civil')\n",
        "plt.xticks([0, 1], ['Hombres', 'Mujeres'], rotation=0)\n",
        "plt.legend(['Unión libre', 'Casado(a)'])\n",
        "plt.show()"
      ]
    }
  ]
}